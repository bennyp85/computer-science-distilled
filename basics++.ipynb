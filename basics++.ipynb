{
 "cells": [
  {
   "cell_type": "markdown",
   "metadata": {},
   "source": [
    "### Ideas: Generating Random Ideas\n",
    "\n",
    "Let's take the idea of randomly selecting from a list to a deeper level by introducing some computer science principles, particularly focusing on discrete mathematics and probability. We can simulate selecting random elements from a list based on their probabilities. Here's an example that incorporates these principles:"
   ]
  },
  {
   "cell_type": "code",
   "execution_count": 1,
   "metadata": {},
   "outputs": [
    {
     "name": "stdout",
     "output_type": "stream",
     "text": [
      "Randomly Selected Idea: Create a robot chef\n"
     ]
    }
   ],
   "source": [
    "import random\n",
    "\n",
    "# Define a list of ideas with associated probabilities (in percentage)\n",
    "ideas_with_probabilities = [\n",
    "    (\"Build a time-travel app\", 10),\n",
    "    (\"Create a robot chef\", 30),\n",
    "    (\"Design a smart mirror\", 20),\n",
    "    (\"Explore the depths of operating systems\", 15),\n",
    "    (\"Master discrete mathematics\", 25)\n",
    "]\n",
    "\n",
    "# Function to randomly select an idea based on probabilities\n",
    "def select_idea_with_probabilities(ideas_probabilities):\n",
    "    # Ensure that the sum of probabilities is 100\n",
    "    total_probability = sum(probability for _, probability in ideas_probabilities)\n",
    "    if total_probability != 100:\n",
    "        raise ValueError(\"Probabilities do not sum up to 100%\")\n",
    "\n",
    "    # Generate a random number between 0 and 99\n",
    "    random_num = random.randint(0, 99)\n",
    "\n",
    "    # Initialize a cumulative probability counter\n",
    "    cumulative_probability = 0\n",
    "\n",
    "    # Select an idea based on the random number and probabilities\n",
    "    for idea, probability in ideas_probabilities:\n",
    "        cumulative_probability += probability\n",
    "        if random_num < cumulative_probability:\n",
    "            return idea\n",
    "\n",
    "# Randomly select an idea based on probabilities\n",
    "random_idea = select_idea_with_probabilities(ideas_with_probabilities)\n",
    "\n",
    "print(\"Randomly Selected Idea:\", random_idea)\n"
   ]
  },
  {
   "cell_type": "markdown",
   "metadata": {},
   "source": [
    "### Discussion Questions"
   ]
  },
  {
   "cell_type": "markdown",
   "metadata": {},
   "source": [
    "- Which data structure are the ideas stored in? Why?\n",
    "\n",
    "- How do we maintain the integrity of the probabilities?\n",
    "\n",
    "- What is a ValueError?\n",
    "\n",
    "- What is unpredicateable about the output of this function?\n",
    "\n",
    "- How do print statements work?"
   ]
  }
 ],
 "metadata": {
  "kernelspec": {
   "display_name": "Python 3",
   "language": "python",
   "name": "python3"
  },
  "language_info": {
   "codemirror_mode": {
    "name": "ipython",
    "version": 3
   },
   "file_extension": ".py",
   "mimetype": "text/x-python",
   "name": "python",
   "nbconvert_exporter": "python",
   "pygments_lexer": "ipython3",
   "version": "3.11.3"
  }
 },
 "nbformat": 4,
 "nbformat_minor": 2
}
